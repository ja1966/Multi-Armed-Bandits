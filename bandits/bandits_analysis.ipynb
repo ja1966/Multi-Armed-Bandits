{
 "cells": [
  {
   "cell_type": "code",
   "execution_count": 1,
   "metadata": {},
   "outputs": [],
   "source": [
    "from bandits import bernoulli_arms, normal_arms, uniform_arms, Game"
   ]
  },
  {
   "attachments": {},
   "cell_type": "markdown",
   "metadata": {},
   "source": [
    "An example of how to use the bandits module."
   ]
  },
  {
   "cell_type": "code",
   "execution_count": 4,
   "metadata": {},
   "outputs": [
    {
     "data": {
      "text/plain": [
       "[0.0,\n",
       " 0.0,\n",
       " 2.0,\n",
       " 2.0,\n",
       " 3.0,\n",
       " 1.0,\n",
       " 1.5,\n",
       " 2.0,\n",
       " 2.5,\n",
       " 3.0,\n",
       " 1.6666666666666665,\n",
       " 1.9999999999999998,\n",
       " 2.333333333333333,\n",
       " 1.6666666666666665,\n",
       " 1.625,\n",
       " 1.3333333333333333,\n",
       " 1.6666666666666665,\n",
       " 1.9999999999999998,\n",
       " 1.7,\n",
       " 1.4545454545454544,\n",
       " 1.727272727272727,\n",
       " 1.5,\n",
       " 1.7499999999999998,\n",
       " 0.9999999999999998,\n",
       " 1.2499999999999998]"
      ]
     },
     "execution_count": 4,
     "metadata": {},
     "output_type": "execute_result"
    }
   ],
   "source": [
    "number_of_arms = 3\n",
    "arm = bernoulli_arms(number_of_arms)\n",
    "game = Game(arm)\n",
    "\n",
    "rounds = 25\n",
    "delta = 1 / (number_of_arms * rounds ** 2)\n",
    "cumulative_regret = game.upper_confidence_bound(rounds, delta)\n",
    "game.reset()\n",
    "cumulative_regret"
   ]
  },
  {
   "cell_type": "code",
   "execution_count": null,
   "metadata": {},
   "outputs": [],
   "source": []
  }
 ],
 "metadata": {
  "kernelspec": {
   "display_name": "Python 3",
   "language": "python",
   "name": "python3"
  },
  "language_info": {
   "codemirror_mode": {
    "name": "ipython",
    "version": 3
   },
   "file_extension": ".py",
   "mimetype": "text/x-python",
   "name": "python",
   "nbconvert_exporter": "python",
   "pygments_lexer": "ipython3",
   "version": "3.11.1"
  }
 },
 "nbformat": 4,
 "nbformat_minor": 2
}
